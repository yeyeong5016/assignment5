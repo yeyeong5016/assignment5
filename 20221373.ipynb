{
 "cells": [
  {
   "cell_type": "markdown",
   "id": "27ad363b",
   "metadata": {},
   "source": [
    "# 1. LeetCode 225. Implement Stack using Queues"
   ]
  },
  {
   "cell_type": "code",
   "execution_count": null,
   "id": "28448891",
   "metadata": {},
   "outputs": [],
   "source": [
    "from collections import deque\n",
    "\n",
    "class MyStack:\n",
    "    def __init__(self):\n",
    "        self.queue = deque()\n",
    "\n",
    "    def push(self, x):\n",
    "        self.queue.append(x)\n",
    "        for _ in range(len(self.queue) - 1):\n",
    "            self.queue.append(self.queue.popleft())\n",
    "\n",
    "    def pop(self):\n",
    "        return self.queue.popleft()\n",
    "\n",
    "    def top(self):\n",
    "        return self.queue[0]\n",
    "\n",
    "    def empty(self):\n",
    "        return not self.queue"
   ]
  },
  {
   "cell_type": "markdown",
   "id": "85065011",
   "metadata": {},
   "source": [
    "# 2. LeetCode 232. Implement Queue using Stacks "
   ]
  },
  {
   "cell_type": "code",
   "execution_count": null,
   "id": "0b2f86a9",
   "metadata": {},
   "outputs": [],
   "source": [
    "class MyQueue:\n",
    "    def __init__(self):\n",
    "        self.stack_in = []\n",
    "        self.stack_out = []\n",
    "\n",
    "    def push(self, x):\n",
    "        self.stack_in.append(x)\n",
    "\n",
    "    def pop(self):\n",
    "        self.peek()\n",
    "        return self.stack_out.pop()\n",
    "\n",
    "    def peek(self):\n",
    "        if not self.stack_out:\n",
    "            while self.stack_in:\n",
    "                self.stack_out.append(self.stack_in.pop())\n",
    "        return self.stack_out[-1]\n",
    "\n",
    "    def empty(self):\n",
    "        return not self.stack_in and not self.stack_out"
   ]
  },
  {
   "cell_type": "markdown",
   "id": "11f5938f",
   "metadata": {},
   "source": [
    "# 3. 교재의 큐 연습문제 전부"
   ]
  },
  {
   "cell_type": "code",
   "execution_count": null,
   "id": "11edae9e",
   "metadata": {},
   "outputs": [],
   "source": [
    "# 1번\n",
    "\n",
    "class ListQueue:\n",
    "    def __init__(self):\n",
    "        self.__queue = []\n",
    "\n",
    "    def enqueue(self, item):\n",
    "        self.__queue.insert(0, item)\n",
    "\n",
    "    def dequeue(self):\n",
    "        return self.__queue.pop()\n",
    "\n",
    "    def front(self):\n",
    "        if self.is_empty():\n",
    "            return None\n",
    "        else:\n",
    "            return self.__queue[-1]\n",
    "\n",
    "    def is_empty(self):\n",
    "        return not bool(self.__queue)\n",
    "\n",
    "    def dequeue_all(self):\n",
    "        self.__queue.clear()"
   ]
  },
  {
   "cell_type": "code",
   "execution_count": null,
   "id": "9b562b4d",
   "metadata": {},
   "outputs": [],
   "source": [
    "# 2번\n",
    "\n",
    "def is_in_set(string):\n",
    "    q = ListQueue()\n",
    "    index = 0\n",
    "    while string[index] != '$':\n",
    "        q.enqueue(string[index])\n",
    "        index += 1\n",
    "    index += 1\n",
    "    while index < len(string):\n",
    "        if q.dequeue() != string[index]:\n",
    "            return False\n",
    "        else:\n",
    "            index += 1\n",
    "    return True"
   ]
  },
  {
   "cell_type": "code",
   "execution_count": null,
   "id": "57840559",
   "metadata": {},
   "outputs": [],
   "source": [
    "# 3번\n",
    " \n",
    "def copy_linked_queue(a, b):\n",
    "    b.dequeue_all()\n",
    "    temp_queue = LinkedQueue()\n",
    "    while not a.is_empty():\n",
    "        temp_queue.enqueue(a.dequeue())\n",
    "    while not temp_queue.is_empty():\n",
    "        a.enqueue(temp_queue.front())\n",
    "        b.enqueue(temp_queue.dequeue())"
   ]
  },
  {
   "cell_type": "code",
   "execution_count": null,
   "id": "434f211f",
   "metadata": {},
   "outputs": [],
   "source": [
    "# 4번\n",
    "\n",
    "def push(q1, q2, item):\n",
    "    q2.dequeue_all()\n",
    "    while not q1.is_empty():\n",
    "        q2.enqueue(q1.dequeue())\n",
    "    q1.enqueue(item)\n",
    "    while not q2.is_empty():\n",
    "        q1.enqueue(q2.dequeue())\n",
    "\n",
    "def pop(q1, q2):\n",
    "    q2.dequeue_all()\n",
    "    count = 0\n",
    "    while not q1.is_empty():\n",
    "        q2.enqueue(q1.dequeue())\n",
    "        count += 1\n",
    "    for _ in range(count - 1):\n",
    "        q1.enqueue(q2.dequeue())\n",
    "    return q2.dequeue()"
   ]
  },
  {
   "cell_type": "code",
   "execution_count": null,
   "id": "d6d7f9c3",
   "metadata": {},
   "outputs": [],
   "source": [
    "# 5번\n",
    "\n",
    "def enqueue(s1, s2, item):\n",
    "    s2.pop_all()\n",
    "    while not s1.is_empty():\n",
    "        s2.push(s1.pop())\n",
    "    s1.push(item)\n",
    "    while not s2.is_empty():\n",
    "        s1.push(s2.pop())\n",
    "\n",
    "def dequeue(s1, s2):\n",
    "    s2.pop_all()\n",
    "    while not s1.is_empty():\n",
    "        s2.push(s1.pop())\n",
    "    ret_item = s2.pop()\n",
    "    while not s2.is_empty():\n",
    "        s1.push(s2.pop())\n",
    "    return ret_item"
   ]
  },
  {
   "cell_type": "code",
   "execution_count": null,
   "id": "fbdcbf40",
   "metadata": {},
   "outputs": [],
   "source": [
    "# 6번\n",
    "'''\n",
    "구현하고자 하는 Deque는 단방향원형리스트를 기반으로 한다.\n",
    "또한, 이 Deque의 front는 리스트의 맨 앞이며 tail은 리스트의 맨 끝으로 한다.\n",
    "enqueue()의 수행시간은 Deque의 front에서 수행할 시 Θ(1), Deque의 tail에서 수행할 시 Θ(1)이다. \n",
    "따라서 수행 위치에 상관없이 enqueue()의 수행 시간은 Θ(1)이다.\n",
    "dequeue()의 수행시간은 Deque의 front에서 수행할 시 Θ(1), Deque의 tail에서 수행할 시 Θ(1)이다. \n",
    "따라서 수행 위치에 상관없이 dequeue()의 수행 시간은 Θ(1)이다.\n",
    "\n",
    "'''"
   ]
  },
  {
   "cell_type": "code",
   "execution_count": null,
   "id": "f4de5536",
   "metadata": {},
   "outputs": [],
   "source": [
    "# 7번\n",
    "'''\n",
    "구현하고자 하는 Deque는 단방향리스트를 기반으로 한다.\n",
    "또한, 이 Deque의 front는 리스트의 맨 앞이며 tail은 리스트의 맨 끝으로 한다.\n",
    "enqueue()의 수행시간은 Deque의 front에서 수행할 시 Θ(1), Deque의 tail에서 수행할 시 Θ(n)이다.\n",
    "따라서 enqueue()의 수행 시간은 최악의 경우를 고려해 Θ(n)이다.\n",
    "dequeue()의 수행시간은 Deque의 front에서 수행할 시 Θ(1), Deque의 tail에서 수행할 시 Θ(n)이다.\n",
    "따라서 dequeue()의 수행 시간은 최악의 경우를 고려해 Θ(n)이다.\n",
    "'''"
   ]
  },
  {
   "cell_type": "code",
   "execution_count": null,
   "id": "20f9b234",
   "metadata": {},
   "outputs": [],
   "source": [
    "# 8번\n",
    "\n",
    "class ListDeque:\n",
    "    def __init__(self):\n",
    "        self.__queue = []\n",
    "\n",
    "    def enqueue(self, item):\n",
    "        self.__queue.append(item)\n",
    "\n",
    "    def dequeue(self):\n",
    "        return self.__queue.pop(0)\n",
    "\n",
    "    def push(self, item):\n",
    "        self.__queue.insert(0, item)\n",
    "\n",
    "    def pop(self):\n",
    "        return self.__queue.pop()\n",
    "\n",
    "    def front(self):\n",
    "        if self.is_empty():\n",
    "            return None\n",
    "        return self.__queue[0]\n",
    "\n",
    "    def rear(self):\n",
    "        if self.is_empty():\n",
    "            return None\n",
    "        return self.__queue[-1]\n",
    "\n",
    "    def is_empty(self):\n",
    "        return not bool(self.__queue)\n",
    "\n",
    "    def deque_all(self):\n",
    "        self.__queue.clear()\n",
    "\n",
    "    def print_deque(self):\n",
    "        print(\"Dequeue from front:\", end=' ')\n",
    "        for item in self.__queue:\n",
    "            print(item, end=' ')\n",
    "        print()"
   ]
  }
 ],
 "metadata": {
  "language_info": {
   "name": "python"
  }
 },
 "nbformat": 4,
 "nbformat_minor": 5
}
